{
 "cells": [
  {
   "cell_type": "code",
   "execution_count": 1,
   "metadata": {},
   "outputs": [],
   "source": [
    "import torch\n",
    "import torch.nn as nn"
   ]
  },
  {
   "cell_type": "code",
   "execution_count": 38,
   "metadata": {},
   "outputs": [],
   "source": [
    "def double_conv(no_in, no_out):\n",
    "    conv = nn.Sequential(nn.Conv2d(kernel_size=3), nn.ReLU(inplace=True),\n",
    "                        nn.Conv2d(kernel_size=3), nn.ReLU(inplace=True))\n",
    "    return conv\n",
    "\n",
    "def crop_image(tensor, target_tensor):\n",
    "    target_size = target_tensor.size()[2]\n",
    "    tensor_size = tensor.size()[2]\n",
    "    delta = tensor_size - target_size\n",
    "    delta = delta // 2\n",
    "    return tensor[:, :, delta:tensor_size-delta, delta:tensor_size-delta]\n",
    "    \n",
    "    \n",
    "    \n",
    "class UNet(nn.Module):\n",
    "    def __init__(self):\n",
    "        super(self, UNet).__init__()\n",
    "        self.max_poool_2x2 = nn.MaxPool2d(kernel_size=2, stride=2)\n",
    "        self.conv_1 = double_conv(1, 64)\n",
    "        self.conv_2 = double_conv(64, 128)\n",
    "        self.conv_3 = double_conv(128, 256)\n",
    "        self.conv_4 = double_conv(256, 512)\n",
    "        self.conv_5 = double_conv(512, 1025)\n",
    "        \n",
    "        self.up_trans_1 = nn.ConvTranspose2d(\n",
    "            in_channels=1024, out_channels=512,\n",
    "            kernel_size=2, stride=2)\n",
    "\n",
    "        self.up_conv_1 = double_conv(1024, 512)\n",
    "        \n",
    "        self.up_trans_2 = nn.ConvTranspose2d(\n",
    "            in_channels=512, out_channels=256,\n",
    "            kernel_size=2, stride=2)\n",
    "\n",
    "        self.up_conv_2 = double_conv(512, 256)\n",
    "        \n",
    "        self.up_trans_3 = nn.ConvTranspose2d(\n",
    "            in_channels=256, out_channels=128,\n",
    "            kernel_size=2, stride=2)\n",
    "\n",
    "        self.up_conv_3 = double_conv(256, 128)\n",
    "        \n",
    "        self.up_trans_4 = nn.ConvTranspose2d(\n",
    "            in_channels=1024, out_channels=512,\n",
    "            kernel_size=2, stride=2)\n",
    "\n",
    "        self.up_conv_4 = double_conv(128, 64)\n",
    "        \n",
    "        self.out = nn.Conv2d(\n",
    "        in_channels=64,\n",
    "        out_channels=2,\n",
    "        kernel_size=1)        \n",
    "\n",
    "        \n",
    "        \n",
    "    def forward(self, image):\n",
    "        x1 = self.conv_1(image)\n",
    "        x2 = self.max_poool_2x2(x1)\n",
    "        x3 = self.conv_2(x2)\n",
    "        x4 = self.max_poool_2x2(x3)\n",
    "        x5 = self.conv_3(x4)\n",
    "        x6 = self.max_poool_2x2(x5)\n",
    "        x7 = self.conv_4(x6)\n",
    "        x8 = self.max_poool_2x2(x7)\n",
    "        x9 = self.conv_5(x8)\n",
    "        x = self.up_trans_1(x9)\n",
    "        y = crop_img(x7, x)\n",
    "        x = self.up_conv_1(torch.cat([x, y], 1))\n",
    "        x = self.up_trans_2(x)\n",
    "        y = crop_img(x5, x)\n",
    "        x = self.up_conv_2(torch.cat([x, y], 1))\n",
    "        x = self.up_trans_3(x)\n",
    "        y = crop_img(x3, x)\n",
    "        x = self.up_conv_3(torch.cat([x, y], 1))\n",
    "        x = self.up_trans_4(x)\n",
    "        y = crop_img(x1, x)\n",
    "        x = self.up_conv_4(torch.cat([x, y], 1))\n",
    "        x = self.out(x)\n",
    "        print(x.size())\n",
    "        return x\n",
    "\n",
    "\n",
    "        \n",
    "        \n",
    "if __name__ == \"__main__\":\n",
    "    image = torch.rand((1, 1, 572, 572))\n",
    "    model = UNet()\n",
    "    print(model.foward(image))\n",
    "\n",
    "\n",
    "        \n",
    "        \n",
    "        \n",
    "        "
   ]
  },
  {
   "cell_type": "code",
   "execution_count": 85,
   "metadata": {},
   "outputs": [],
   "source": [
    "random_tensor = torch.randint(0, 10, size=(3,3,5, 4))"
   ]
  },
  {
   "cell_type": "code",
   "execution_count": 86,
   "metadata": {},
   "outputs": [],
   "source": [
    "another_tensor = torch.randint(0, 10, size=(3,3,7, 2))"
   ]
  },
  {
   "cell_type": "code",
   "execution_count": 110,
   "metadata": {},
   "outputs": [
    {
     "data": {
      "text/plain": [
       "torch.Size([3, 3, 10, 4])"
      ]
     },
     "execution_count": 110,
     "metadata": {},
     "output_type": "execute_result"
    }
   ],
   "source": [
    "a = torch.randint(0, 10, size=(3,3,5, 4))\n",
    "b = torch.randint(0, 10, size=(3,3,5, 4))\n",
    "torch.cat([a,b], 2).size()"
   ]
  },
  {
   "cell_type": "code",
   "execution_count": 87,
   "metadata": {},
   "outputs": [
    {
     "data": {
      "text/plain": [
       "tensor([[[[3]],\n",
       "\n",
       "         [[6]],\n",
       "\n",
       "         [[0]]],\n",
       "\n",
       "\n",
       "        [[[6]],\n",
       "\n",
       "         [[6]],\n",
       "\n",
       "         [[4]]],\n",
       "\n",
       "\n",
       "        [[[5]],\n",
       "\n",
       "         [[0]],\n",
       "\n",
       "         [[8]]]])"
      ]
     },
     "execution_count": 87,
     "metadata": {},
     "output_type": "execute_result"
    }
   ],
   "source": [
    "crop_image(random_tensor, another_tensor)"
   ]
  },
  {
   "cell_type": "code",
   "execution_count": 88,
   "metadata": {},
   "outputs": [],
   "source": [
    "target_size = random_tensor.size()[2]\n",
    "tensor_size = another_tensor.size()[2]\n",
    "delta = tensor_size - target_size\n",
    "delta = delta // 2\n"
   ]
  },
  {
   "cell_type": "code",
   "execution_count": 89,
   "metadata": {},
   "outputs": [],
   "source": [
    "target_size = random_tensor.size()[2]\n",
    "tensor_size = another_tensor.size()[2]\n"
   ]
  },
  {
   "cell_type": "code",
   "execution_count": 90,
   "metadata": {},
   "outputs": [
    {
     "data": {
      "text/plain": [
       "5"
      ]
     },
     "execution_count": 90,
     "metadata": {},
     "output_type": "execute_result"
    }
   ],
   "source": [
    "target_size"
   ]
  },
  {
   "cell_type": "code",
   "execution_count": 93,
   "metadata": {},
   "outputs": [
    {
     "data": {
      "text/plain": [
       "7"
      ]
     },
     "execution_count": 93,
     "metadata": {},
     "output_type": "execute_result"
    }
   ],
   "source": [
    "tensor_size"
   ]
  },
  {
   "cell_type": "code",
   "execution_count": 91,
   "metadata": {},
   "outputs": [
    {
     "data": {
      "text/plain": [
       "1"
      ]
     },
     "execution_count": 91,
     "metadata": {},
     "output_type": "execute_result"
    }
   ],
   "source": [
    "delta"
   ]
  },
  {
   "cell_type": "code",
   "execution_count": 94,
   "metadata": {},
   "outputs": [
    {
     "data": {
      "text/plain": [
       "6"
      ]
     },
     "execution_count": 94,
     "metadata": {},
     "output_type": "execute_result"
    }
   ],
   "source": [
    "tensor_size - delta"
   ]
  },
  {
   "cell_type": "code",
   "execution_count": 112,
   "metadata": {},
   "outputs": [
    {
     "data": {
      "text/plain": [
       "tensor([[2., 2.],\n",
       "        [2., 2.],\n",
       "        [2., 2.],\n",
       "        [2., 2.],\n",
       "        [2., 2.],\n",
       "        [2., 2.],\n",
       "        [2., 2.],\n",
       "        [2., 2.],\n",
       "        [2., 2.],\n",
       "        [2., 2.]])"
      ]
     },
     "execution_count": 112,
     "metadata": {},
     "output_type": "execute_result"
    }
   ],
   "source": [
    "2*torch.ones(10, 2)"
   ]
  },
  {
   "cell_type": "code",
   "execution_count": 137,
   "metadata": {},
   "outputs": [],
   "source": [
    "class LR(nn.Module):\n",
    "    \n",
    "    def __init__(self, ins, out):\n",
    "        super(LR, self).__init__()\n",
    "        self.linear = nn.Linear(ins, out)\n",
    "    def forward(self, x):\n",
    "        out = self.linear(x)\n",
    "        return out"
   ]
  },
  {
   "cell_type": "code",
   "execution_count": 138,
   "metadata": {},
   "outputs": [],
   "source": [
    "a = LR(1, 1)"
   ]
  },
  {
   "cell_type": "code",
   "execution_count": 144,
   "metadata": {},
   "outputs": [
    {
     "name": "stdout",
     "output_type": "stream",
     "text": [
      "[Parameter containing:\n",
      "tensor([[0.2238]], requires_grad=True), Parameter containing:\n",
      "tensor([0.1499], requires_grad=True)]\n"
     ]
    }
   ],
   "source": [
    "print(list(a.parameters()))"
   ]
  },
  {
   "cell_type": "code",
   "execution_count": 140,
   "metadata": {},
   "outputs": [],
   "source": [
    "X = torch.tensor([[1.0], [2.0], [3.0]])"
   ]
  },
  {
   "cell_type": "code",
   "execution_count": 141,
   "metadata": {},
   "outputs": [
    {
     "data": {
      "text/plain": [
       "tensor([[0.3738],\n",
       "        [0.5976],\n",
       "        [0.8214]], grad_fn=<AddmmBackward>)"
      ]
     },
     "execution_count": 141,
     "metadata": {},
     "output_type": "execute_result"
    }
   ],
   "source": [
    "a(X)"
   ]
  },
  {
   "cell_type": "code",
   "execution_count": 143,
   "metadata": {},
   "outputs": [
    {
     "data": {
      "text/plain": [
       "OrderedDict([('linear.weight', tensor([[0.2238]])),\n",
       "             ('linear.bias', tensor([0.1499]))])"
      ]
     },
     "execution_count": 143,
     "metadata": {},
     "output_type": "execute_result"
    }
   ],
   "source": [
    "a.state_dict()"
   ]
  },
  {
   "cell_type": "code",
   "execution_count": 167,
   "metadata": {},
   "outputs": [],
   "source": [
    "from torch.utils.data import Dataset\n",
    "\n",
    "class Data(Dataset):\n",
    "    \n",
    "    def __init__(self):\n",
    "        self.x = torch.arange(-3, 3, 0.1).view(-1, 1)\n",
    "        self.y = -3*self.x+1\n",
    "        self.len = self.x.shape[0]\n",
    "        \n",
    "    def __getitem__(self, index):\n",
    "        return self.x[index], self.y[index]\n",
    "    \n",
    "    def __len__(self):\n",
    "        return self.len\n"
   ]
  },
  {
   "cell_type": "code",
   "execution_count": 200,
   "metadata": {},
   "outputs": [],
   "source": [
    "dataset = Data()"
   ]
  },
  {
   "cell_type": "code",
   "execution_count": 201,
   "metadata": {},
   "outputs": [
    {
     "data": {
      "text/plain": [
       "60"
      ]
     },
     "execution_count": 201,
     "metadata": {},
     "output_type": "execute_result"
    }
   ],
   "source": [
    "len(d)"
   ]
  },
  {
   "cell_type": "code",
   "execution_count": 202,
   "metadata": {},
   "outputs": [],
   "source": [
    "from torch.utils.data import DataLoader\n",
    "\n",
    "trainloader = DataLoader(dataset=dataset, batch_size=1)"
   ]
  },
  {
   "cell_type": "code",
   "execution_count": 207,
   "metadata": {},
   "outputs": [
    {
     "data": {
      "text/plain": [
       "1.3523266062520634e-08"
      ]
     },
     "execution_count": 207,
     "metadata": {},
     "output_type": "execute_result"
    }
   ],
   "source": [
    "def forward(x):\n",
    "    y = w*x+b\n",
    "    return y\n",
    "\n",
    "def criterion(yhat, y):\n",
    "    return torch.mean((yhat-y)**2)\n",
    "\n",
    "lr=0.1\n",
    "total = 0\n",
    "for x,y in trainloader:\n",
    "    yhat = forward(x)\n",
    "    loss = criterion(yhat, y)\n",
    "    loss.backward()\n",
    "    w.data += -lr*w.grad.data\n",
    "    b.data += -lr*b.grad.data\n",
    "    w.grad.data.zero_()\n",
    "    b.grad.data.zero_()\n",
    "    total+=loss.item()\n",
    "total\n"
   ]
  },
  {
   "cell_type": "code",
   "execution_count": 174,
   "metadata": {},
   "outputs": [],
   "source": [
    "w = torch.tensor(-15.0, requires_grad=True)\n",
    "b = torch.tensor(-10.0, requires_grad=True)\n",
    "X = torch.arange(-3, 3, 0.1).view(-1, 1)\n",
    "f = -3*X"
   ]
  },
  {
   "cell_type": "code",
   "execution_count": 195,
   "metadata": {},
   "outputs": [],
   "source": [
    "class LR(nn.Module):\n",
    "    \n",
    "    def __init__(self):\n",
    "        super(LR, self).__init__()\n",
    "        self.x = torch.arange(-3, 3, 0.1).view(-1, 1)\n",
    "        self.y = -3*self.x+1\n",
    "        self.len = self.x.shape[0]\n",
    "        self.lr = 0.1\n",
    "        w = torch.tensor(-15.0, requires_grad=True)\n",
    "        b = torch.tensor(-10.0, requires_grad=True)\n",
    "\n",
    "\n",
    "    def forward(self, x):\n",
    "        y = w*x+b\n",
    "        return y\n",
    "    \n",
    "    def criterion(self, yhat, y):\n",
    "        return torch.mean((yhat-y)**2)\n",
    "    \n",
    "    def run(self):\n",
    "        cost = []\n",
    "        for epoch in range(4):\n",
    "            total = 0\n",
    "            for x,y in zip(self.x, self.y):\n",
    "                yhat = self.forward(x)\n",
    "                loss = self.criterion(yhat, y)\n",
    "                loss.backward()\n",
    "                w.data += -self.lr*w.grad.data\n",
    "                b.data += -self.lr*b.grad.data\n",
    "                w.grad.data.zero_()\n",
    "                b.grad.data.zero_()\n",
    "                total+=loss.item()\n",
    "            cost.append(total)\n",
    "        return w, b, loss, cost\n",
    "                "
   ]
  },
  {
   "cell_type": "code",
   "execution_count": 196,
   "metadata": {},
   "outputs": [],
   "source": [
    "r = LR()"
   ]
  },
  {
   "cell_type": "code",
   "execution_count": 197,
   "metadata": {},
   "outputs": [],
   "source": [
    "t = r.run()"
   ]
  },
  {
   "cell_type": "code",
   "execution_count": 199,
   "metadata": {},
   "outputs": [
    {
     "data": {
      "text/plain": [
       "(tensor(-3.0000, requires_grad=True),\n",
       " tensor(0.9999, requires_grad=True),\n",
       " tensor(2.0464e-12, grad_fn=<MeanBackward0>),\n",
       " [1.5413114724083243e-05,\n",
       "  3.680006301465255e-06,\n",
       "  8.680590397602828e-07,\n",
       "  2.1117804394066297e-07])"
      ]
     },
     "execution_count": 199,
     "metadata": {},
     "output_type": "execute_result"
    }
   ],
   "source": [
    "t"
   ]
  },
  {
   "cell_type": "code",
   "execution_count": 217,
   "metadata": {},
   "outputs": [],
   "source": [
    "from torch.functional import F\n",
    "class abc(nn.Module):\n",
    "    \n",
    "    def __init__(self):\n",
    "        super(abc, self).__init__()\n",
    "        self.conv1 = nn.Conv2d(in_channels=4, out_channels=128, kernel_size=(3,3), padding=(1,1))\n",
    "        self.maxpool1 = nn.MaxPool2d(kernel_size=(2,2))\n",
    "    \n",
    "    def forward(self, images, targets=None):\n",
    "        x = F.relu(self.conv1(images))\n",
    "        x = self.maxpool1(x)\n",
    "        return x, None\n",
    "        \n",
    "        "
   ]
  },
  {
   "cell_type": "code",
   "execution_count": 237,
   "metadata": {},
   "outputs": [],
   "source": [
    "e = torch.rand(2, 4, 75, 300)"
   ]
  },
  {
   "cell_type": "code",
   "execution_count": 238,
   "metadata": {},
   "outputs": [
    {
     "data": {
      "text/plain": [
       "torch.Size([2, 4, 75, 300])"
      ]
     },
     "execution_count": 238,
     "metadata": {},
     "output_type": "execute_result"
    }
   ],
   "source": [
    "e.size()"
   ]
  },
  {
   "cell_type": "code",
   "execution_count": null,
   "metadata": {},
   "outputs": [],
   "source": [
    "d = abc()\n",
    "d(e)"
   ]
  },
  {
   "cell_type": "code",
   "execution_count": 249,
   "metadata": {},
   "outputs": [
    {
     "data": {
      "text/plain": [
       "abc(\n",
       "  (conv1): Conv2d(4, 128, kernel_size=(3, 3), stride=(1, 1), padding=(1, 1))\n",
       "  (maxpool1): MaxPool2d(kernel_size=(2, 2), stride=(2, 2), padding=0, dilation=1, ceil_mode=False)\n",
       ")"
      ]
     },
     "execution_count": 249,
     "metadata": {},
     "output_type": "execute_result"
    }
   ],
   "source": [
    "d.train()"
   ]
  },
  {
   "cell_type": "code",
   "execution_count": 250,
   "metadata": {},
   "outputs": [],
   "source": [
    "import torch\n",
    "import torch.nn"
   ]
  },
  {
   "cell_type": "code",
   "execution_count": 366,
   "metadata": {},
   "outputs": [],
   "source": [
    "def double_conv(in_c, out_c):\n",
    "    conv = nn.Sequential(nn.Conv2d(in_c, out_c, kernel_size=3),\n",
    "                        nn.ReLU(inplace=True),\n",
    "                        nn.Conv2d(out_c, out_c, kernel_size=3),\n",
    "                        nn.ReLU(inplace=True))\n",
    "    return conv\n",
    "    \n",
    "def crop_img(tensor, target_tensor):\n",
    "    target_size = target_tensor.size()[2]\n",
    "    tensor_size = tensor.size()[2]\n",
    "    delta = tensor_size - target_size\n",
    "    delta = delta // 2\n",
    "    return tensor[:, :, delta:tensor_size-delta, delta:tensor_size-delta]\n",
    "                         \n",
    "\n",
    "class abc(nn.Module):\n",
    "    \n",
    "    def __init__(self):\n",
    "        super(abc, self).__init__()\n",
    "        self.images = torch.rand((50, 3, 572, 572))\n",
    "        # weights should be size of kernel * no_kernels in each layer * no_channels\n",
    "        # no_in_channels * no_out_channels *((3+2)*5+3+(3+(2/2))*4+1)\n",
    "        # bias term equals one for each output channel (64+128+256+512+1024)\n",
    "        #w = torch.rand_like(self.images[0].view(-1, 3*572*572), requires_grad=True)\n",
    "        #b = torch.rand_like()\n",
    "        self.max_poool_2x2 = nn.MaxPool2d(kernel_size=2, stride=2)\n",
    "        self.down_conv_1 = double_conv(1, 64)\n",
    "        self.down_conv_2 = double_conv(64, 128)\n",
    "        self.down_conv_3 = double_conv(128, 256)\n",
    "        self.down_conv_4 = double_conv(256, 512)\n",
    "        self.down_conv_5 = double_conv(512, 1024)\n",
    "        \n",
    "        self.up_trans_1 = nn.ConvTranspose2d(\n",
    "            in_channels=1024, out_channels=512,\n",
    "            kernel_size=2, stride=2)\n",
    "\n",
    "        self.up_conv_1 = double_conv(1024, 512)\n",
    "\n",
    "        \n",
    "        self.up_trans_2 = nn.ConvTranspose2d(\n",
    "            in_channels=512, out_channels=256,\n",
    "            kernel_size=2, stride=2)\n",
    "        \n",
    "        self.up_conv_2 = double_conv(512, 256)\n",
    "        \n",
    "        self.up_trans_3 = nn.ConvTranspose2d(\n",
    "            in_channels=256, out_channels=128,\n",
    "            kernel_size=2, stride=2)\n",
    "        \n",
    "        self.up_conv_3 = double_conv(256, 128)\n",
    "        \n",
    "        self.up_trans_4 = nn.ConvTranspose2d(\n",
    "            in_channels=128, out_channels=64,\n",
    "            kernel_size=2, stride=2)\n",
    "        \n",
    "        self.up_conv_4 = double_conv(128, 64)\n",
    "        \n",
    "        self.out = nn.Conv2d(\n",
    "        in_channels=64,\n",
    "        out_channels=2,\n",
    "        kernel_size=1)\n",
    "        \n",
    "        \n",
    "    def forward(self, image):\n",
    "        # bs, c, h, w\n",
    "        # encoder\n",
    "        x1 = self.down_conv_1(image)\n",
    "        x2 = self.max_poool_2x2(x1)\n",
    "        x3 = self.down_conv_2(x2)\n",
    "        x4 = self.max_poool_2x2(x3)\n",
    "        x5 = self.down_conv_3(x4)\n",
    "        x6 = self.max_poool_2x2(x5)\n",
    "        x7 = self.down_conv_4(x6)\n",
    "        x8 = self.max_poool_2x2(x7)\n",
    "        x9 = self.down_conv_5(x8)\n",
    "        # decoder\n",
    "        x = self.up_trans_1(x9)\n",
    "        y = crop_img(x7, x)\n",
    "        x = self.up_conv_1(torch.cat([x, y], 1))\n",
    "        x = self.up_trans_2(x)\n",
    "        y = crop_img(x5, x)\n",
    "        x = self.up_conv_2(torch.cat([x, y], 1))\n",
    "        x = self.up_trans_3(x)\n",
    "        y = crop_img(x3, x)\n",
    "        x = self.up_conv_3(torch.cat([x, y], 1))\n",
    "        x = self.up_trans_4(x)\n",
    "        y = crop_img(x1, x)\n",
    "        x = self.up_conv_4(torch.cat([x, y], 1))\n",
    "        x = self.out(x)\n",
    "        return x\n",
    "\n",
    "            \n",
    "image = torch.rand((1, 1, 572, 572))\n",
    "\n",
    "\n",
    "\n",
    "    \n",
    "class UNet(nn.Module):\n",
    "    def __init__(self):\n",
    "        super(UNet, self).__init__()\n",
    "        self.max_poool_2x2 = nn.MaxPool2d(kernel_size=2, stride=2)\n",
    "        self.down_conv_1 = double_conv(1, 64)\n",
    "        self.down_conv_2 = double_conv(64, 128)\n",
    "        self.down_conv_3 = double_conv(128, 256)\n",
    "        self.down_conv_4 = double_conv(256, 512)\n",
    "        self.down_conv_5 = double_conv(512, 1024)\n",
    "        \n",
    "        self.up_trans_1 = nn.ConvTranspose2d(\n",
    "            in_channels=1024, out_channels=512,\n",
    "            kernel_size=2, stride=2)\n",
    "\n",
    "        self.up_conv_1 = double_conv(1024, 512)\n",
    "\n",
    "        \n",
    "        self.up_trans_2 = nn.ConvTranspose2d(\n",
    "            in_channels=512, out_channels=256,\n",
    "            kernel_size=2, stride=2)\n",
    "        \n",
    "        self.up_conv_2 = double_conv(512, 256)\n",
    "        \n",
    "        self.up_trans_3 = nn.ConvTranspose2d(\n",
    "            in_channels=256, out_channels=128,\n",
    "            kernel_size=2, stride=2)\n",
    "        \n",
    "        self.up_conv_3 = double_conv(256, 128)\n",
    "        \n",
    "        self.up_trans_4 = nn.ConvTranspose2d(\n",
    "            in_channels=128, out_channels=64,\n",
    "            kernel_size=2, stride=2)\n",
    "        \n",
    "        self.up_conv_4 = double_conv(128, 64)\n",
    "        \n",
    "        self.out = nn.Conv2d(\n",
    "        in_channels=64,\n",
    "        out_channels=2,\n",
    "        kernel_size=1)\n",
    "        \n",
    "\n",
    "\n",
    "\n",
    "    def forward(self, image):\n",
    "        # bs, c, h, w\n",
    "        # encoder\n",
    "        x1 = self.down_conv_1(image)\n",
    "        x2 = self.max_poool_2x2(x1)\n",
    "        x3 = self.down_conv_2(x2)\n",
    "        x4 = self.max_poool_2x2(x3)\n",
    "        x5 = self.down_conv_3(x4)\n",
    "        x6 = self.max_poool_2x2(x5)\n",
    "        x7 = self.down_conv_4(x6)\n",
    "        x8 = self.max_poool_2x2(x7)\n",
    "        x9 = self.down_conv_5(x8)\n",
    "        # decoder\n",
    "        x = self.up_trans_1(x9)\n",
    "        y = crop_img(x7, x)\n",
    "        x = self.up_conv_1(torch.cat([x, y], 1))\n",
    "        x = self.up_trans_2(x)\n",
    "        y = crop_img(x5, x)\n",
    "        x = self.up_conv_2(torch.cat([x, y], 1))\n",
    "        x = self.up_trans_3(x)\n",
    "        y = crop_img(x3, x)\n",
    "        x = self.up_conv_3(torch.cat([x, y], 1))\n",
    "        x = self.up_trans_4(x)\n",
    "        y = crop_img(x1, x)\n",
    "        x = self.up_conv_4(torch.cat([x, y], 1))\n",
    "        x = self.out(x)\n",
    "        return x\n",
    "\n",
    "\n",
    "    \n",
    "      "
   ]
  },
  {
   "cell_type": "code",
   "execution_count": 373,
   "metadata": {},
   "outputs": [],
   "source": [
    "nn.Conv2d?"
   ]
  },
  {
   "cell_type": "code",
   "execution_count": 367,
   "metadata": {},
   "outputs": [
    {
     "data": {
      "text/plain": [
       "tensor([[[[-0.1009, -0.0989, -0.1026,  ..., -0.0992, -0.1024, -0.1029],\n",
       "          [-0.1023, -0.1022, -0.1006,  ..., -0.1005, -0.1034, -0.1005],\n",
       "          [-0.1008, -0.1027, -0.1046,  ..., -0.0990, -0.1025, -0.1009],\n",
       "          ...,\n",
       "          [-0.1058, -0.1015, -0.1014,  ..., -0.1012, -0.0997, -0.1012],\n",
       "          [-0.1060, -0.1041, -0.1024,  ..., -0.0983, -0.1002, -0.1043],\n",
       "          [-0.1036, -0.1019, -0.1031,  ..., -0.1020, -0.0974, -0.1021]],\n",
       "\n",
       "         [[-0.0064, -0.0099, -0.0102,  ..., -0.0103, -0.0092, -0.0060],\n",
       "          [-0.0048, -0.0096, -0.0088,  ..., -0.0085, -0.0065, -0.0076],\n",
       "          [-0.0106, -0.0094, -0.0107,  ..., -0.0100, -0.0079, -0.0099],\n",
       "          ...,\n",
       "          [-0.0094, -0.0115, -0.0090,  ..., -0.0131, -0.0140, -0.0159],\n",
       "          [-0.0100, -0.0115, -0.0127,  ..., -0.0123, -0.0097, -0.0155],\n",
       "          [-0.0133, -0.0078, -0.0118,  ..., -0.0116, -0.0133, -0.0106]]]],\n",
       "       grad_fn=<MkldnnConvolutionBackward>)"
      ]
     },
     "execution_count": 367,
     "metadata": {},
     "output_type": "execute_result"
    }
   ],
   "source": [
    "mod = abc()\n",
    "image = torch.rand((1, 1, 572, 572))\n",
    "mod.forward(image)"
   ]
  },
  {
   "cell_type": "code",
   "execution_count": 378,
   "metadata": {},
   "outputs": [
    {
     "name": "stdout",
     "output_type": "stream",
     "text": [
      "torch.Size([1, 572, 572])\n",
      "torch.Size([1, 1, 572, 572])\n"
     ]
    }
   ],
   "source": [
    "images = torch.rand((64, 1, 572, 572))\n",
    "for image in images:\n",
    "    a = image\n",
    "    print(a.size())\n",
    "    print(a.unsqueeze(0).size())\n",
    "    break"
   ]
  },
  {
   "cell_type": "code",
   "execution_count": null,
   "metadata": {},
   "outputs": [],
   "source": [
    "mod = abc()\n",
    "images = torch.rand((64, 1, 572, 572))\n",
    "labels = torch.randint(0, 5, size=(100, 1))\n",
    "from torch.optim import SGD\n",
    "optimizer = SGD(lr=0.1, params=mod.parameters())\n",
    "criterion = nn.CrossEntropyLoss()\n",
    "\n",
    "n_epochs=10\n",
    "cost_list = []\n",
    "accuracy_list = []\n",
    "for epoch in range(n_epochs):\n",
    "    cost = 0\n",
    "    for x, y in zip(images, labels):\n",
    "        optimizer.zero_grad()\n",
    "        z = mod(x.unsqueeze(0))\n",
    "        print(z.size())\n",
    "        break\n",
    "        loss = criterion(z, y)\n",
    "        loss.backward()\n",
    "        optimizer.step()\n",
    "        cost+=lost.item()\n",
    "    cost_list.append(cost)\n",
    "    "
   ]
  },
  {
   "cell_type": "code",
   "execution_count": 274,
   "metadata": {},
   "outputs": [],
   "source": [
    "from matplotlib import pyplot as plt\n",
    "import numpy as np"
   ]
  },
  {
   "cell_type": "code",
   "execution_count": 280,
   "metadata": {},
   "outputs": [],
   "source": [
    "from skimage import io\n"
   ]
  },
  {
   "cell_type": "code",
   "execution_count": 318,
   "metadata": {},
   "outputs": [
    {
     "data": {
      "text/plain": [
       "<matplotlib.image.AxesImage at 0x7ff535024390>"
      ]
     },
     "execution_count": 318,
     "metadata": {},
     "output_type": "execute_result"
    },
    {
     "data": {
      "image/png": "[encoded data removed]",
      "text/plain": [
       "<Figure size 432x288 with 1 Axes>"
      ]
     },
     "metadata": {
      "needs_background": "light"
     },
     "output_type": "display_data"
    }
   ],
   "source": [
    "io.imshow(image[3].permute(1,2,0).numpy())"
   ]
  },
  {
   "cell_type": "code",
   "execution_count": 319,
   "metadata": {},
   "outputs": [
    {
     "data": {
      "text/plain": [
       "torch.Size([572, 572, 3])"
      ]
     },
     "execution_count": 319,
     "metadata": {},
     "output_type": "execute_result"
    }
   ],
   "source": [
    "image[3].permute(1,2,0).shape"
   ]
  },
  {
   "cell_type": "code",
   "execution_count": 380,
   "metadata": {},
   "outputs": [],
   "source": [
    "a = np.random.random((3,10))\n",
    "b = np.random.random((10,5))"
   ]
  },
  {
   "cell_type": "code",
   "execution_count": 385,
   "metadata": {},
   "outputs": [],
   "source": [
    "c = np.dot(a,b)"
   ]
  },
  {
   "cell_type": "code",
   "execution_count": 386,
   "metadata": {},
   "outputs": [
    {
     "data": {
      "text/plain": [
       "(3, 5)"
      ]
     },
     "execution_count": 386,
     "metadata": {},
     "output_type": "execute_result"
    }
   ],
   "source": [
    "c.shape"
   ]
  },
  {
   "cell_type": "code",
   "execution_count": 397,
   "metadata": {},
   "outputs": [],
   "source": [
    "d = np.exp(c)/np.sum(np.exp(c), axis=0)"
   ]
  },
  {
   "cell_type": "code",
   "execution_count": 401,
   "metadata": {},
   "outputs": [],
   "source": [
    "from scipy.special import logsumexp"
   ]
  },
  {
   "cell_type": "code",
   "execution_count": 416,
   "metadata": {},
   "outputs": [],
   "source": [
    "e = logsumexp(c, axis=0)"
   ]
  },
  {
   "cell_type": "code",
   "execution_count": 417,
   "metadata": {},
   "outputs": [
    {
     "data": {
      "text/plain": [
       "array([4.46854814, 4.31498205, 4.32542379, 3.24781363, 2.7768258 ])"
      ]
     },
     "execution_count": 417,
     "metadata": {},
     "output_type": "execute_result"
    }
   ],
   "source": [
    "e"
   ]
  },
  {
   "cell_type": "code",
   "execution_count": 436,
   "metadata": {},
   "outputs": [
    {
     "data": {
      "text/plain": [
       "10"
      ]
     },
     "execution_count": 436,
     "metadata": {},
     "output_type": "execute_result"
    }
   ],
   "source": [
    "x = torch.arange(-3,3,0.6).view(-1, 1)\n",
    "x.size(0)"
   ]
  },
  {
   "cell_type": "code",
   "execution_count": 452,
   "metadata": {},
   "outputs": [],
   "source": [
    "class mlp(nn.Module):\n",
    "    def __init__(self, no_in, no_out):\n",
    "        w = torch.rand([10, 1], requires_grad=True)\n",
    "        b = torch.tensor([0.1], requires_grad=True)\n",
    "        self.x = torch.arange(-3,3,0.6).view(-1,1)\n",
    "        self.y = 5*self.x+3\n",
    "        super(mlp, self).__init__()\n",
    "    \n",
    "    def forward(self):\n",
    "        z = np.dot(w.detach().numpy(), b.detach().numpy())\n",
    "        return z\n",
    "    \n",
    "        "
   ]
  },
  {
   "cell_type": "code",
   "execution_count": 455,
   "metadata": {},
   "outputs": [],
   "source": [
    "from torch.utils.data import Dataset, DataLoader"
   ]
  },
  {
   "cell_type": "code",
   "execution_count": 550,
   "metadata": {},
   "outputs": [],
   "source": [
    "class randomloader(Dataset):\n",
    "    \n",
    "    def __init__(self):\n",
    "        w = torch.rand([10, 1], requires_grad=True)\n",
    "        b = torch.tensor([0.1], requires_grad=True)\n",
    "        x1 = torch.arange(-3,3,0.6)\n",
    "        x2 = torch.arange(-3,3,0.6)\n",
    "        self.x = torch.cat([x1, x2], 0).view(10, 2)\n",
    "        #self.x = torch.arange(-3,3,0.6).view(-1,1)\n",
    "        self.y = 5*self.x+3\n",
    "        self.len = self.x.size(0)\n",
    "        super(randomloader, self).__init__()\n",
    "        \n",
    "    def __len__(self):\n",
    "        return self.len\n",
    "    \n",
    "    def __getitem__(self, item):\n",
    "        return self.x[item], self.y[item]\n"
   ]
  },
  {
   "cell_type": "code",
   "execution_count": 551,
   "metadata": {},
   "outputs": [],
   "source": [
    "class linear(nn.Module):\n",
    "    def __init__(self, no_in, no_out):\n",
    "        super(linear, self).__init__()\n",
    "        self.nn = nn.Linear(no_in, no_out)\n",
    "    \n",
    "    def forward(self, x):\n",
    "        x = self.nn(x)\n",
    "        return x"
   ]
  },
  {
   "cell_type": "code",
   "execution_count": 552,
   "metadata": {},
   "outputs": [],
   "source": [
    "a = randomloader()\n",
    "from torch.optim import Adam\n",
    "data = DataLoader(a, batch_size=1)\n",
    "def criterion(yhat, y):\n",
    "    return torch.mean((yhat-y)**2)\n"
   ]
  },
  {
   "cell_type": "code",
   "execution_count": 559,
   "metadata": {},
   "outputs": [],
   "source": [
    "mod = linear(2, 1)\n",
    "optim = Adam(list(mod.parameters()), lr=0.1)\n",
    "epochs = 50\n",
    "cost_list = []\n",
    "for epoch in range(epochs):\n",
    "    cost = 0\n",
    "    for x,y in zip(data.dataset.x, data.dataset.y):\n",
    "        optim.zero_grad()\n",
    "        yhat = mod(x)\n",
    "        loss = criterion(yhat, y)\n",
    "        loss.backward()\n",
    "        optim.step()\n",
    "        cost+=loss.item()\n",
    "    cost_list.append(loss)\n",
    "        "
   ]
  },
  {
   "cell_type": "code",
   "execution_count": 807,
   "metadata": {},
   "outputs": [
    {
     "data": {
      "text/plain": [
       "tensor([0., 1., 0., 0., 1., 1., 0., 0., 1., 1., 1., 0., 0., 1., 0.])"
      ]
     },
     "execution_count": 807,
     "metadata": {},
     "output_type": "execute_result"
    }
   ],
   "source": [
    "convert_rand_val_to_label(torch.rand([15,2]))"
   ]
  },
  {
   "cell_type": "code",
   "execution_count": 737,
   "metadata": {},
   "outputs": [],
   "source": [
    "from torch.functional import F\n",
    "class logistic(nn.Module):\n",
    "    def __init__(self, no_in, no_out):\n",
    "        super(logistic, self).__init__()\n",
    "        self.lin = nn.Linear(no_in, no_out)\n",
    "    \n",
    "    def forward(self, x):\n",
    "        z = torch.sigmoid(self.lin(x))\n",
    "        #z = F.softmax(2)\n",
    "        #return 1 if z >=0 else 0\n",
    "        return z.float()\n",
    "        "
   ]
  },
  {
   "cell_type": "code",
   "execution_count": 804,
   "metadata": {},
   "outputs": [],
   "source": [
    "def convert_rand_val_to_label(tensor):\n",
    "    med = sum(np.median(tensor, axis=0))\n",
    "    label_tens = torch.zeros(tensor.size(0))\n",
    "    for idx, val in enumerate(tensor):\n",
    "        score = val.numpy().sum(0)\n",
    "        if score > med:\n",
    "            lab = 1\n",
    "            label_tens[idx] = lab\n",
    "    return label_tens\n",
    "    \n",
    "    "
   ]
  },
  {
   "cell_type": "code",
   "execution_count": 808,
   "metadata": {},
   "outputs": [],
   "source": [
    "class logdataset(Dataset):\n",
    "    def __init__(self):\n",
    "        super(logdataset, self).__init__()\n",
    "        self.x = torch.rand([30, 2])\n",
    "        #self.y = torch.randint(0, 2, [30]).float()\n",
    "        self.y = logdataset.convert_rand_val_to_label(self.x)\n",
    "        self.len = self.x.size(0)\n",
    "        \n",
    "    def __len__(self):\n",
    "        return self.len\n",
    "    \n",
    "    def __getitem__(self, index):\n",
    "        return self.x[index], self.y[index]\n",
    "    \n",
    "    @staticmethod\n",
    "    def convert_rand_val_to_label(tensor):\n",
    "        med = sum(np.median(tensor, axis=0))\n",
    "        label_tens = torch.zeros(tensor.size(0))\n",
    "        for idx, val in enumerate(tensor):\n",
    "            score = val.numpy().sum(0)\n",
    "            if score > med:\n",
    "                lab = 1\n",
    "                label_tens[idx] = lab\n",
    "        return label_tens\n",
    "    \n",
    "    \n"
   ]
  },
  {
   "cell_type": "code",
   "execution_count": 810,
   "metadata": {},
   "outputs": [
    {
     "name": "stdout",
     "output_type": "stream",
     "text": [
      "40.0%\n"
     ]
    }
   ],
   "source": [
    "mod_log = logistic(2, 1)\n",
    "criterion = nn.BCELoss()\n",
    "dat = logdataset()\n",
    "loader = DataLoader(dat, batch_size=1)\n",
    "optim = Adam(list(mod_log.parameters()), lr=0.1)\n",
    "epochs = 200\n",
    "cost_list = []\n",
    "for epoch in range(epochs):\n",
    "    cost = 0\n",
    "    acc_list = []\n",
    "    for x, y in zip(loader.dataset.x, loader.dataset.y):\n",
    "        optim.zero_grad()\n",
    "        yhat = mod_log(x)\n",
    "        y_guess = 1 if yhat >= 0 else 0\n",
    "        #print(yhat.dtype)\n",
    "        #print(y.dtype)\n",
    "        loss = criterion(yhat, y)\n",
    "        loss.backward()\n",
    "        #print(yhat, y)\n",
    "        acc_sample = (y_guess==y).sum().tolist()\n",
    "        #print(y_guess, y)\n",
    "        optim.step()\n",
    "        cost+=loss.item()\n",
    "        acc_list.append(acc_sample)\n",
    "    cost_list.append(loss)\n",
    "overall_acc = sum(acc_list)/len(acc_list)*100\n",
    "print(f'{overall_acc}%')\n",
    "        "
   ]
  },
  {
   "cell_type": "code",
   "execution_count": 901,
   "metadata": {},
   "outputs": [
    {
     "name": "stdout",
     "output_type": "stream",
     "text": [
      "tensor([0.9828, 0.4614]) tensor(0)\n"
     ]
    }
   ],
   "source": [
    "class bla(Dataset):\n",
    "    def __init__(self):\n",
    "        super(bla, self).__init__()\n",
    "        self.x = torch.rand([100, 2])\n",
    "        self.y = torch.randint(0,2, [100])\n",
    "        self.len = x.shape[0]\n",
    "        \n",
    "    def __len__(self):\n",
    "        return self.len\n",
    "    \n",
    "    def __getitem__(self, item):\n",
    "        return self.x[item], self.y[item]\n",
    "    \n",
    "dset = bla()\n",
    "abc = logistic(2, 1)\n",
    "opt = torch.optim.Adam(list(abc.parameters()), lr=0.1)\n",
    "data = DataLoader(dset, batch_size=1)\n",
    "\n",
    "epochs = 50\n",
    "for x, y in zip(data.dataset.x, data.dataset.y):\n",
    "    print(x, y)\n",
    "    break"
   ]
  },
  {
   "cell_type": "code",
   "execution_count": 15,
   "metadata": {},
   "outputs": [],
   "source": [
    "import torchvision\n",
    "n_epochs = 3\n",
    "batch_size_train = 32\n",
    "batch_size_test = 120\n",
    "learning_rate = 0.01\n",
    "log_interval = 10\n",
    "ImageSize = 28\n",
    "Scaling_Factor = 2\n",
    "random_seed = 1\n",
    "torch.backends.cudnn.enabled = False\n",
    "torch.manual_seed(random_seed)\n",
    "train_loader = torch.utils.data.DataLoader(\n",
    "  torchvision.datasets.MNIST('.', train=True, download=True,\n",
    "                             transform=torchvision.transforms.Compose([torchvision.transforms.Resize(ImageSize*Scaling_Factor),\n",
    "                               torchvision.transforms.ToTensor(),\n",
    "                               torchvision.transforms.Normalize(\n",
    "                                 (0.1307,), (0.3081,)), \n",
    "                             ])),\n",
    "  batch_size=batch_size_train, shuffle=True)\n",
    "\n",
    "test_loader = torch.utils.data.DataLoader(\n",
    "  torchvision.datasets.MNIST('.', train=False, download=True,\n",
    "                             transform=torchvision.transforms.Compose([torchvision.transforms.Resize(ImageSize*Scaling_Factor),\n",
    "                               torchvision.transforms.ToTensor(),\n",
    "                               torchvision.transforms.Normalize(\n",
    "                                 (0.1307,), (0.3081,)), \n",
    "                             ])),\n",
    "  batch_size=batch_size_test, shuffle=True)"
   ]
  },
  {
   "cell_type": "code",
   "execution_count": 16,
   "metadata": {},
   "outputs": [],
   "source": [
    "examples = enumerate(test_loader)\n",
    "batch_idx, (example_data, example_targets) = next(examples)"
   ]
  },
  {
   "cell_type": "code",
   "execution_count": 17,
   "metadata": {},
   "outputs": [
    {
     "data": {
      "text/plain": [
       "torch.Size([120, 1, 56, 56])"
      ]
     },
     "execution_count": 17,
     "metadata": {},
     "output_type": "execute_result"
    }
   ],
   "source": [
    "example_data.shape"
   ]
  },
  {
   "cell_type": "code",
   "execution_count": 18,
   "metadata": {},
   "outputs": [
    {
     "data": {
      "text/plain": [
       "<matplotlib.image.AxesImage at 0x7f9a94513b50>"
      ]
     },
     "execution_count": 18,
     "metadata": {},
     "output_type": "execute_result"
    },
    {
     "data": {
      "image/png": "[encoded data removed]",
      "text/plain": [
       "<Figure size 432x288 with 1 Axes>"
      ]
     },
     "metadata": {
      "needs_background": "light"
     },
     "output_type": "display_data"
    }
   ],
   "source": [
    "import matplotlib.pyplot as plt\n",
    "plt.imshow(example_data[0, 0, ...])"
   ]
  },
  {
   "cell_type": "code",
   "execution_count": 19,
   "metadata": {},
   "outputs": [],
   "source": [
    "class ConvMNIST2(nn.Module):\n",
    "    def __init__(self):\n",
    "        super(ConvMNIST, self).__init__()\n",
    "        self.conv1 = nn.Conv2d(1, 20, kernel_size=5)\n",
    "        self.conv2 = nn.Conv2d(20, 30, kernel_size=5)\n",
    "        self.conv3 = nn.Conv2d(30, 960, kernel_size=5, padding=2)\n",
    "        self.conv2_drop = nn.Dropout2d()\n",
    "        self.fc1 = nn.Linear(15360, 60)\n",
    "        self.fc2 = nn.Linear(60, 10)\n",
    "        \n",
    "    def forward(self, x):\n",
    "        x = F.relu(F.max_pool2d(self.conv1(x), 2))\n",
    "        x = F.relu(F.max_pool2d(self.conv2_drop(self.conv2(x)), 2))\n",
    "        x = F.relu(self.conv2_drop(self.conv3(x)), 2)\n",
    "        x = x.view(-1, 15360)\n",
    "        x = F.relu(self.fc1(x))\n",
    "        x = F.dropout(x, training=self.training)\n",
    "        x = self.fc2(x)\n",
    "        return F.softmax(x)\n",
    "    \n",
    "class Net(nn.Module):\n",
    "    def __init__(self):\n",
    "        super(Net, self).__init__()\n",
    "        self.conv1 = nn.Conv2d(1, 10, kernel_size=5)\n",
    "        self.conv2 = nn.Conv2d(10, 20, kernel_size=5)\n",
    "        self.conv2_drop = nn.Dropout2d()\n",
    "        self.fc1 = nn.Linear(320, 50)\n",
    "        self.fc2 = nn.Linear(50, 10)\n",
    "\n",
    "    def forward(self, x):\n",
    "        x = F.relu(F.max_pool2d(self.conv1(x), 2))\n",
    "        x = F.relu(F.max_pool2d(self.conv2_drop(self.conv2(x)), 2))\n",
    "        x = x.view(-1, 320)\n",
    "        x = F.relu(self.fc1(x))\n",
    "        x = F.dropout(x, training=self.training)\n",
    "        x = self.fc2(x)\n",
    "        return F.softmax(x)"
   ]
  },
  {
   "cell_type": "code",
   "execution_count": 36,
   "metadata": {},
   "outputs": [],
   "source": [
    "import torch\n",
    "import torchvision\n",
    "from torch import nn\n",
    "import torch.nn.functional as F\n",
    "\n",
    "class ConvMNIST(nn.Module):\n",
    "    def __init__(self):\n",
    "        super(ConvMNIST, self).__init__()\n",
    "        self.conv1 = nn.Conv2d(1, 20, kernel_size=5)\n",
    "        self.conv2 = nn.Conv2d(20, 30, kernel_size=5)\n",
    "        self.conv3 = nn.Conv2d(30, 60*32, kernel_size=5, padding=2)\n",
    "        self.conv2_drop = nn.Dropout2d()\n",
    "        self.fc1 = nn.Linear(48000, 60)\n",
    "        self.fc2 = nn.Linear(60, 10)\n",
    "        \n",
    "    def forward(self, x):\n",
    "        x = F.relu(F.max_pool2d(self.conv1(x), 2))\n",
    "        x = F.relu(F.max_pool2d(self.conv2_drop(self.conv2(x)), 2))\n",
    "        x = F.relu(F.max_pool2d(self.conv2_drop(self.conv3(x)), 2))\n",
    "        x = x.view(-1, 48000)\n",
    "        nn.Flatten\n",
    "        x = F.relu(self.fc1(x))\n",
    "        x = F.dropout(x, training=self.training)\n",
    "        x = self.fc2(x)\n",
    "        return F.softmax(x)\n"
   ]
  },
  {
   "cell_type": "code",
   "execution_count": 37,
   "metadata": {},
   "outputs": [
    {
     "name": "stderr",
     "output_type": "stream",
     "text": [
      "/Users/jonathanreich/opt/anaconda3/lib/python3.7/site-packages/ipykernel_launcher.py:25: UserWarning: Implicit dimension choice for softmax has been deprecated. Change the call to include dim=X as an argument.\n"
     ]
    },
    {
     "name": "stdout",
     "output_type": "stream",
     "text": [
      "Train Epoch: 1 [0/60000 (0%)]\tLoss: 2.300609\n"
     ]
    },
    {
     "ename": "KeyboardInterrupt",
     "evalue": "",
     "output_type": "error",
     "traceback": [
      "\u001b[0;31m---------------------------------------------------------------------------\u001b[0m",
      "\u001b[0;31mKeyboardInterrupt\u001b[0m                         Traceback (most recent call last)",
      "\u001b[0;32m<ipython-input-37-30f13d83e8ba>\u001b[0m in \u001b[0;36m<module>\u001b[0;34m\u001b[0m\n\u001b[1;32m     15\u001b[0m     \u001b[0;31m#break\u001b[0m\u001b[0;34m\u001b[0m\u001b[0;34m\u001b[0m\u001b[0;34m\u001b[0m\u001b[0m\n\u001b[1;32m     16\u001b[0m     \u001b[0mloss\u001b[0m \u001b[0;34m=\u001b[0m \u001b[0mcriterion\u001b[0m\u001b[0;34m(\u001b[0m\u001b[0mpred\u001b[0m\u001b[0;34m,\u001b[0m \u001b[0mtarget\u001b[0m\u001b[0;34m)\u001b[0m\u001b[0;34m\u001b[0m\u001b[0;34m\u001b[0m\u001b[0m\n\u001b[0;32m---> 17\u001b[0;31m     \u001b[0mloss\u001b[0m\u001b[0;34m.\u001b[0m\u001b[0mbackward\u001b[0m\u001b[0;34m(\u001b[0m\u001b[0;34m)\u001b[0m\u001b[0;34m\u001b[0m\u001b[0;34m\u001b[0m\u001b[0m\n\u001b[0m\u001b[1;32m     18\u001b[0m     \u001b[0mopt\u001b[0m\u001b[0;34m.\u001b[0m\u001b[0mstep\u001b[0m\u001b[0;34m(\u001b[0m\u001b[0;34m)\u001b[0m\u001b[0;34m\u001b[0m\u001b[0;34m\u001b[0m\u001b[0m\n\u001b[1;32m     19\u001b[0m     \u001b[0;32mif\u001b[0m \u001b[0mbatch_idx\u001b[0m \u001b[0;34m%\u001b[0m \u001b[0mlog_interval\u001b[0m \u001b[0;34m==\u001b[0m \u001b[0;36m0\u001b[0m\u001b[0;34m:\u001b[0m\u001b[0;34m\u001b[0m\u001b[0;34m\u001b[0m\u001b[0m\n",
      "\u001b[0;32m~/opt/anaconda3/lib/python3.7/site-packages/torch/tensor.py\u001b[0m in \u001b[0;36mbackward\u001b[0;34m(self, gradient, retain_graph, create_graph)\u001b[0m\n\u001b[1;32m    196\u001b[0m                 \u001b[0mproducts\u001b[0m\u001b[0;34m.\u001b[0m \u001b[0mDefaults\u001b[0m \u001b[0mto\u001b[0m\u001b[0;31m \u001b[0m\u001b[0;31m`\u001b[0m\u001b[0;31m`\u001b[0m\u001b[0;32mFalse\u001b[0m\u001b[0;31m`\u001b[0m\u001b[0;31m`\u001b[0m\u001b[0;34m.\u001b[0m\u001b[0;34m\u001b[0m\u001b[0;34m\u001b[0m\u001b[0m\n\u001b[1;32m    197\u001b[0m         \"\"\"\n\u001b[0;32m--> 198\u001b[0;31m         \u001b[0mtorch\u001b[0m\u001b[0;34m.\u001b[0m\u001b[0mautograd\u001b[0m\u001b[0;34m.\u001b[0m\u001b[0mbackward\u001b[0m\u001b[0;34m(\u001b[0m\u001b[0mself\u001b[0m\u001b[0;34m,\u001b[0m \u001b[0mgradient\u001b[0m\u001b[0;34m,\u001b[0m \u001b[0mretain_graph\u001b[0m\u001b[0;34m,\u001b[0m \u001b[0mcreate_graph\u001b[0m\u001b[0;34m)\u001b[0m\u001b[0;34m\u001b[0m\u001b[0;34m\u001b[0m\u001b[0m\n\u001b[0m\u001b[1;32m    199\u001b[0m \u001b[0;34m\u001b[0m\u001b[0m\n\u001b[1;32m    200\u001b[0m     \u001b[0;32mdef\u001b[0m \u001b[0mregister_hook\u001b[0m\u001b[0;34m(\u001b[0m\u001b[0mself\u001b[0m\u001b[0;34m,\u001b[0m \u001b[0mhook\u001b[0m\u001b[0;34m)\u001b[0m\u001b[0;34m:\u001b[0m\u001b[0;34m\u001b[0m\u001b[0;34m\u001b[0m\u001b[0m\n",
      "\u001b[0;32m~/opt/anaconda3/lib/python3.7/site-packages/torch/autograd/__init__.py\u001b[0m in \u001b[0;36mbackward\u001b[0;34m(tensors, grad_tensors, retain_graph, create_graph, grad_variables)\u001b[0m\n\u001b[1;32m     98\u001b[0m     Variable._execution_engine.run_backward(\n\u001b[1;32m     99\u001b[0m         \u001b[0mtensors\u001b[0m\u001b[0;34m,\u001b[0m \u001b[0mgrad_tensors\u001b[0m\u001b[0;34m,\u001b[0m \u001b[0mretain_graph\u001b[0m\u001b[0;34m,\u001b[0m \u001b[0mcreate_graph\u001b[0m\u001b[0;34m,\u001b[0m\u001b[0;34m\u001b[0m\u001b[0;34m\u001b[0m\u001b[0m\n\u001b[0;32m--> 100\u001b[0;31m         allow_unreachable=True)  # allow_unreachable flag\n\u001b[0m\u001b[1;32m    101\u001b[0m \u001b[0;34m\u001b[0m\u001b[0m\n\u001b[1;32m    102\u001b[0m \u001b[0;34m\u001b[0m\u001b[0m\n",
      "\u001b[0;31mKeyboardInterrupt\u001b[0m: "
     ]
    }
   ],
   "source": [
    "import os\n",
    "epoch=1\n",
    "network = ConvMNIST()\n",
    "criterion = nn.CrossEntropyLoss()\n",
    "opt = torch.optim.Adam(network.parameters(), lr=0.1)\n",
    "train_losses = []\n",
    "train_counter = []\n",
    "test_losses = []\n",
    "test_counter = [i*len(train_loader.dataset) for i in range(n_epochs + 1)]\n",
    "network.train()\n",
    "for batch_idx, (data, target) in enumerate(train_loader):\n",
    "    opt.zero_grad()\n",
    "    pred = network(data)\n",
    "    #print(pred.shape)\n",
    "    #break\n",
    "    loss = criterion(pred, target)\n",
    "    loss.backward()\n",
    "    opt.step()\n",
    "    if batch_idx % log_interval == 0:\n",
    "        print('Train Epoch: {} [{}/{} ({:.0f}%)]\\tLoss: {:.6f}'.format(\n",
    "        epoch, batch_idx * len(data), len(train_loader.dataset),\n",
    "        100. * batch_idx / len(train_loader), loss.item()))\n",
    "    train_losses.append(loss.item())\n",
    "    train_counter.append(\n",
    "    (batch_idx*32) + ((epoch-1)*len(train_loader.dataset)))\n",
    "    if not os.path.exists('./results'):\n",
    "        os.mkdir('./results')\n",
    "    torch.save(network.state_dict(), './results/model.pth')\n",
    "    torch.save(opt.state_dict(), './results/optimizer.pth')\n"
   ]
  },
  {
   "cell_type": "code",
   "execution_count": 1162,
   "metadata": {},
   "outputs": [
    {
     "name": "stdout",
     "output_type": "stream",
     "text": [
      "torch.Size([64])\n",
      "torch.Size([64, 10])\n"
     ]
    },
    {
     "name": "stderr",
     "output_type": "stream",
     "text": [
      "/Users/jonathanreich/opt/anaconda3/lib/python3.7/site-packages/ipykernel_launcher.py:39: UserWarning: Implicit dimension choice for softmax has been deprecated. Change the call to include dim=X as an argument.\n"
     ]
    }
   ],
   "source": [
    "net = Net()\n",
    "criterion = nn.CrossEntropyLoss()\n",
    "opt = torch.optim.Adam(net.parameters(), lr=0.1)\n",
    "train_losses = []\n",
    "train_counter = []\n",
    "test_losses = []\n",
    "test_counter = [i*len(train_loader.dataset) for i in range(n_epochs + 1)]\n",
    "net.train()\n",
    "for data, target in train_loader:\n",
    "    print(target.shape)\n",
    "    opt.zero_grad()\n",
    "    pred = net(data)\n",
    "    print(pred.shape)\n",
    "    break\n",
    "    #loss = F.nll_loss(pred, target)\n",
    "    loss = criterion(pred, target)\n",
    "    loss.backward()\n",
    "    optimizer.step()\n"
   ]
  }
 ],
 "metadata": {
  "kernelspec": {
   "display_name": "Python 3",
   "language": "python",
   "name": "python3"
  }
 },
 "nbformat": 4,
 "nbformat_minor": 4
}
